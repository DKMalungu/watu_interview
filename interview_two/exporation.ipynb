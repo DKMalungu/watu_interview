{
 "cells": [
  {
   "cell_type": "code",
   "execution_count": 131,
   "metadata": {
    "collapsed": true
   },
   "outputs": [],
   "source": [
    "# importing Libraries\n",
    "import pandas as pd\n",
    "import numpy as np\n",
    "import matplotlib.pyplot as plt\n",
    "import seaborn as sbn"
   ]
  },
  {
   "cell_type": "code",
   "execution_count": 132,
   "outputs": [],
   "source": [
    "file_path = './data/watu_sales_data.csv'\n",
    "dataset = pd.read_csv(file_path)"
   ],
   "metadata": {
    "collapsed": false,
    "pycharm": {
     "name": "#%%\n"
    }
   }
  },
  {
   "cell_type": "code",
   "execution_count": 133,
   "outputs": [
    {
     "name": "stdout",
     "output_type": "stream",
     "text": [
      "       make          model         make_model   branch date_of_sale     month  \\\n",
      "0     Boxer         BM 150       Boxer BM 150  Nairobi   06/01/2021   January   \n",
      "1       TVS      HLX 100CC      TVS HLX 100CC  Bungoma   22/04/2021     April   \n",
      "2       TVS      HLX 100CC      TVS HLX 100CC  Bungoma   26/02/2021  February   \n",
      "3       TVS      HLX 150CC      TVS HLX 150CC  Nairobi   26/03/2021     March   \n",
      "4       TVS        HLX 150        TVS HLX 150  Mombasa   05/06/2021      June   \n",
      "...     ...            ...                ...      ...          ...       ...   \n",
      "1995    TVS      HLX 100CC      TVS HLX 100CC  Bungoma   19/05/2021       May   \n",
      "1996    TVS  STAR 100CC KS  TVS STAR 100CC KS  Bungoma   18/03/2021     March   \n",
      "1997    TVS      HLX 150CC      TVS HLX 150CC  Nairobi   19/05/2021       May   \n",
      "1998    TVS        HLX 150        TVS HLX 150  Nairobi   15/01/2021   January   \n",
      "1999    TVS      HLX 125CC      TVS HLX 125CC   Migori   26/05/2021       May   \n",
      "\n",
      "      is_late_to_pay is_late_to_pay_word  payment_expected  payment_actual  \\\n",
      "0                  0                  NO             95394           95394   \n",
      "1                  0                  NO            102784          102784   \n",
      "2                  0                  NO             82295           82295   \n",
      "3                  0                  NO             93586           93586   \n",
      "4                  0                  NO            135065          135065   \n",
      "...              ...                 ...               ...             ...   \n",
      "1995               0                  NO            109048          109048   \n",
      "1996               0                  NO             93525           93525   \n",
      "1997               0                  NO            126081          126081   \n",
      "1998               0                  NO            105277          105277   \n",
      "1999               0                  NO            120462          120462   \n",
      "\n",
      "      payment_ratio  payment_full payment_full_word  \n",
      "0             100.0             0                NO  \n",
      "1             100.0             0                NO  \n",
      "2             100.0             0                NO  \n",
      "3             100.0             0                NO  \n",
      "4             100.0             0                NO  \n",
      "...             ...           ...               ...  \n",
      "1995          100.0             0                NO  \n",
      "1996          100.0             0                NO  \n",
      "1997          100.0             0                NO  \n",
      "1998          100.0             0                NO  \n",
      "1999          100.0             0                NO  \n",
      "\n",
      "[2000 rows x 13 columns]\n"
     ]
    }
   ],
   "source": [
    "# exploration\n",
    "print(dataset)"
   ],
   "metadata": {
    "collapsed": false,
    "pycharm": {
     "name": "#%%\n"
    }
   }
  },
  {
   "cell_type": "code",
   "execution_count": 134,
   "outputs": [
    {
     "name": "stdout",
     "output_type": "stream",
     "text": [
      "TVS        52.25\n",
      "Boxer      40.70\n",
      "Sonlink     7.05\n",
      "Name: make, dtype: float64\n"
     ]
    },
    {
     "data": {
      "text/plain": "<AxesSubplot:title={'center':'Frequency table of Product Sales by  Product Makes'}>"
     },
     "execution_count": 134,
     "metadata": {},
     "output_type": "execute_result"
    },
    {
     "data": {
      "text/plain": "<Figure size 432x288 with 1 Axes>",
      "image/png": "[encoded data removed]"
     },
     "metadata": {
      "needs_background": "light"
     },
     "output_type": "display_data"
    }
   ],
   "source": [
    "# Understanding the Dataset\n",
    "make_proportion = dataset['make'].value_counts(normalize=True)*100\n",
    "\n",
    "print(make_proportion)\n",
    "\n",
    "\"\"\"\n",
    "Result:\n",
    "The Brand Popularity is as follows\n",
    "TVS        52.25\n",
    "Boxer      40.70\n",
    "Sonlink    7.05\n",
    "\n",
    "TVS is the most popular make to sale the sales team my like to work on a partnership with TVS since it represents over 50% of all sales according\n",
    "to the data\n",
    "\"\"\"\n",
    "dataset['make'].value_counts(normalize=True).plot.bar(title='Frequency table of Product Sales by  Product Makes')\n",
    "# plt.hist(make_proportion)\n",
    "# plt.show()"
   ],
   "metadata": {
    "collapsed": false,
    "pycharm": {
     "name": "#%%\n"
    }
   }
  },
  {
   "cell_type": "code",
   "execution_count": 135,
   "outputs": [
    {
     "name": "stdout",
     "output_type": "stream",
     "text": [
      "TVS HLX 100CC          19.90\n",
      "Boxer BM 150           19.20\n",
      "Boxer BM 100           18.20\n",
      "TVS HLX 150CC          15.85\n",
      "TVS HLX 125CC          10.30\n",
      "TVS HLX 150             3.70\n",
      "Sonlink 150-KD          2.05\n",
      "TVS STAR 100CC KS       2.00\n",
      "Boxer BM X150           1.45\n",
      "Sonlink 125-A2          1.30\n",
      "Sonlink 125-A1          1.10\n",
      "Boxer BM X125           1.05\n",
      "Sonlink KC 150CC        0.75\n",
      "Sonlink 150-KB          0.50\n",
      "Boxer BM 100 ES         0.45\n",
      "Sonlink 150-KA          0.35\n",
      "Boxer CT 125            0.35\n",
      "Sonlink 150-M1          0.30\n",
      "Sonlink SL150-KDX       0.30\n",
      "TVS LX 100CC KS         0.25\n",
      "Sonlink SL100-B         0.20\n",
      "TVS King Duramax        0.15\n",
      "Sonlink SL200ZH-SCW     0.10\n",
      "TVS HLX 100CC ES        0.05\n",
      "Sonlink 150-KE          0.05\n",
      "TVS King                0.05\n",
      "Sonlink SL200ZH-SC      0.05\n",
      "Name: make_model, dtype: float64\n"
     ]
    },
    {
     "data": {
      "text/plain": "<AxesSubplot:title={'center':'Frequency table of Product Sales by Product  Make Model'}>"
     },
     "execution_count": 135,
     "metadata": {},
     "output_type": "execute_result"
    },
    {
     "data": {
      "text/plain": "<Figure size 432x288 with 1 Axes>",
      "image/png": "[encoded data removed]"
     },
     "metadata": {
      "needs_background": "light"
     },
     "output_type": "display_data"
    }
   ],
   "source": [
    "model_proportion = dataset['make_model'].value_counts(normalize=True)*100\n",
    "print(model_proportion)\n",
    "\"\"\"\n",
    "Results:\n",
    "The model popularity is as follows:\n",
    "TVS HLX 100CC          19.90\n",
    "Boxer BM 150           19.20\n",
    "Boxer BM 100           18.20\n",
    "TVS HLX 150CC          15.85\n",
    "TVS HLX 125CC          10.30\n",
    "TVS HLX 150             3.70\n",
    "Sonlink 150-KD          2.05\n",
    "TVS STAR 100CC KS       2.00\n",
    "Boxer BM X150           1.45\n",
    "Sonlink 125-A2          1.30\n",
    "Sonlink 125-A1          1.10\n",
    "Boxer BM X125           1.05\n",
    "Sonlink KC 150CC        0.75\n",
    "Sonlink 150-KB          0.50\n",
    "Boxer BM 100 ES         0.45\n",
    "Sonlink 150-KA          0.35\n",
    "Boxer CT 125            0.35\n",
    "Sonlink 150-M1          0.30\n",
    "Sonlink SL150-KDX       0.30\n",
    "TVS LX 100CC KS         0.25\n",
    "Sonlink SL100-B         0.20\n",
    "TVS King Duramax        0.15\n",
    "Sonlink SL200ZH-SCW     0.10\n",
    "TVS HLX 100CC ES        0.05\n",
    "Sonlink 150-KE          0.05\n",
    "TVS King                0.05\n",
    "Sonlink SL200ZH-SC      0.05\n",
    "\"\"\"\n",
    "dataset['make_model'].value_counts(normalize=True).plot.bar(title=\"Frequency table of Product Sales by Product  Make Model\")"
   ],
   "metadata": {
    "collapsed": false,
    "pycharm": {
     "name": "#%%\n"
    }
   }
  },
  {
   "cell_type": "code",
   "execution_count": 136,
   "outputs": [
    {
     "name": "stdout",
     "output_type": "stream",
     "text": [
      "Bungoma    33.05\n",
      "Nairobi    32.20\n",
      "Migori     13.65\n",
      "Kisumu     11.45\n",
      "Mombasa     9.65\n",
      "Name: branch, dtype: float64\n"
     ]
    },
    {
     "data": {
      "text/plain": "<AxesSubplot:title={'center':'Frequency Table of Product Sale by Branch'}>"
     },
     "execution_count": 136,
     "metadata": {},
     "output_type": "execute_result"
    },
    {
     "data": {
      "text/plain": "<Figure size 432x288 with 1 Axes>",
      "image/png": "[encoded data removed]"
     },
     "metadata": {
      "needs_background": "light"
     },
     "output_type": "display_data"
    }
   ],
   "source": [
    "branch_proportion = dataset['branch'].value_counts(normalize=True)*100\n",
    "print(branch_proportion)\n",
    "\"\"\"\n",
    "Bungoma is the most performing branch with 33.05% of all sale follow by\n",
    "Nairobi at 32.20%, Migori at 13.65%, Kisumu at 11.45%, and Mombasa at 9.65% in the order\n",
    "The sell team should investigate by two branches are making 65.25% of all the sale and what can be done to increase sale rest of the branches.\n",
    "\"\"\"\n",
    "dataset['branch'].value_counts(normalize=True).plot.bar(title='Frequency Table of Product Sale by Branch')"
   ],
   "metadata": {
    "collapsed": false,
    "pycharm": {
     "name": "#%%\n"
    }
   }
  },
  {
   "cell_type": "code",
   "execution_count": 137,
   "outputs": [
    {
     "name": "stdout",
     "output_type": "stream",
     "text": [
      "0    88.9\n",
      "1    11.1\n",
      "Name: is_late_to_pay, dtype: float64\n"
     ]
    },
    {
     "data": {
      "text/plain": "<AxesSubplot:title={'center':'Frequency table of Late Payment'}>"
     },
     "execution_count": 137,
     "metadata": {},
     "output_type": "execute_result"
    },
    {
     "data": {
      "text/plain": "<Figure size 432x288 with 1 Axes>",
      "image/png": "[encoded data removed]"
     },
     "metadata": {
      "needs_background": "light"
     },
     "output_type": "display_data"
    }
   ],
   "source": [
    "late_payment_proportion = dataset['is_late_to_pay'].value_counts(normalize=True)*100\n",
    "print(late_payment_proportion)\n",
    "\n",
    "\"\"\"\n",
    "11.1% of all loan applicant are late to make there repayments this ratio is bellow the kenya rate of default which stands as 12% according\n",
    "to https://www.cgap.org/blog/its-time-slow-digital-credits-growth-east-africa\n",
    "The credit department should make sure that this rate is reduced by offering financial advice and renegotiation facilities to all borrowers\n",
    "especially late borrowers\n",
    "\"\"\"\n",
    "dataset['is_late_to_pay_word'].value_counts(normalize=True).plot.bar(title=\"Frequency table of Late Payment\")"
   ],
   "metadata": {
    "collapsed": false,
    "pycharm": {
     "name": "#%%\n"
    }
   }
  },
  {
   "cell_type": "code",
   "execution_count": 138,
   "outputs": [
    {
     "name": "stdout",
     "output_type": "stream",
     "text": [
      "0    88.9\n",
      "1    11.1\n",
      "Name: payment_full, dtype: float64\n"
     ]
    },
    {
     "data": {
      "text/plain": "<AxesSubplot:title={'center':'Frequency table of Full Payment'}>"
     },
     "execution_count": 138,
     "metadata": {},
     "output_type": "execute_result"
    },
    {
     "data": {
      "text/plain": "<Figure size 432x288 with 1 Axes>",
      "image/png": "[encoded data removed]"
     },
     "metadata": {
      "needs_background": "light"
     },
     "output_type": "display_data"
    }
   ],
   "source": [
    "full_payment_proportion = dataset['payment_full'].value_counts(normalize=True)*100\n",
    "print(full_payment_proportion)\n",
    "\"\"\"\n",
    "The credit team should also not that 11.1% of all repayments made where partial payment\n",
    "\"\"\"\n",
    "dataset['payment_full_word'].value_counts(normalize=True).plot.bar(title=\"Frequency table of Full Payment\")"
   ],
   "metadata": {
    "collapsed": false,
    "pycharm": {
     "name": "#%%\n"
    }
   }
  },
  {
   "cell_type": "code",
   "execution_count": 139,
   "outputs": [
    {
     "name": "stdout",
     "output_type": "stream",
     "text": [
      "April       23.50\n",
      "May         18.05\n",
      "January     17.55\n",
      "February    14.65\n",
      "March       13.55\n",
      "June        12.70\n",
      "Name: month, dtype: float64\n"
     ]
    },
    {
     "data": {
      "text/plain": "<AxesSubplot:title={'center':'Frequency table of Sale by Month'}>"
     },
     "execution_count": 139,
     "metadata": {},
     "output_type": "execute_result"
    },
    {
     "data": {
      "text/plain": "<Figure size 432x288 with 1 Axes>",
      "image/png": "[encoded data removed]"
     },
     "metadata": {
      "needs_background": "light"
     },
     "output_type": "display_data"
    }
   ],
   "source": [
    "full_payment_proportion = dataset['month'].value_counts(normalize=True)*100\n",
    "print(full_payment_proportion)\n",
    "dataset['month'].value_counts(normalize=True).plot.bar(title=\"Frequency table of Sale by Month\")"
   ],
   "metadata": {
    "collapsed": false,
    "pycharm": {
     "name": "#%%\n"
    }
   }
  },
  {
   "cell_type": "code",
   "execution_count": 146,
   "outputs": [
    {
     "data": {
      "text/plain": "<Figure size 432x288 with 1 Axes>",
      "image/png": "[encoded data removed]"
     },
     "metadata": {
      "needs_background": "light"
     },
     "output_type": "display_data"
    },
    {
     "data": {
      "text/plain": "'\\nThe one to one relationship between late payment and partial. This is that all the individuals making late payments also made partial payments\\n'"
     },
     "execution_count": 146,
     "metadata": {},
     "output_type": "execute_result"
    }
   ],
   "source": [
    "plt.scatter(dataset['is_late_to_pay'],dataset['payment_full'])\n",
    "plt.xlabel(\"Late Payment\")\n",
    "plt.ylabel(\"Full Payment\")\n",
    "plt.title('Relationship between Late Payment and Partial Payment')\n",
    "plt.grid()\n",
    "plt.show()\n",
    "\n",
    "\"\"\"\n",
    "The one to one relationship between late payment and partial. This is that all the individuals making late payments also made partial payments\n",
    "\"\"\""
   ],
   "metadata": {
    "collapsed": false,
    "pycharm": {
     "name": "#%%\n"
    }
   }
  },
  {
   "cell_type": "code",
   "execution_count": null,
   "outputs": [],
   "source": [],
   "metadata": {
    "collapsed": false,
    "pycharm": {
     "name": "#%%\n"
    }
   }
  }
 ],
 "metadata": {
  "kernelspec": {
   "display_name": "Python 3",
   "language": "python",
   "name": "python3"
  },
  "language_info": {
   "codemirror_mode": {
    "name": "ipython",
    "version": 2
   },
   "file_extension": ".py",
   "mimetype": "text/x-python",
   "name": "python",
   "nbconvert_exporter": "python",
   "pygments_lexer": "ipython2",
   "version": "2.7.6"
  }
 },
 "nbformat": 4,
 "nbformat_minor": 0
}